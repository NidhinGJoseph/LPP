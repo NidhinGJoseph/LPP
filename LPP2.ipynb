{
  "nbformat": 4,
  "nbformat_minor": 0,
  "metadata": {
    "colab": {
      "provenance": [],
      "authorship_tag": "ABX9TyPRlzJ0EsmKV2d18MftGwyn",
      "include_colab_link": true
    },
    "kernelspec": {
      "name": "python3",
      "display_name": "Python 3"
    },
    "language_info": {
      "name": "python"
    }
  },
  "cells": [
    {
      "cell_type": "markdown",
      "metadata": {
        "id": "view-in-github",
        "colab_type": "text"
      },
      "source": [
        "<a href=\"https://colab.research.google.com/github/NidhinGJoseph/LPP/blob/main/LPP2.ipynb\" target=\"_parent\"><img src=\"https://colab.research.google.com/assets/colab-badge.svg\" alt=\"Open In Colab\"/></a>"
      ]
    },
    {
      "cell_type": "markdown",
      "source": [
        "A car company produces 8 models. Long-term projections indicate an expected demand\n",
        "of each car each day, hence a minimum number should be done each day . Because of\n",
        "limitations on production capacity, there is constraint on max number of cars that can be\n",
        "made daily. To satisfy a shipping contract, a total of at least 10000 cars much be shipped\n",
        "each day. If each model A car sold results in loss/profit, how many of each type should be\n",
        "made daily to maximize net profits?"
      ],
      "metadata": {
        "id": "QiPwp9aa9WmR"
      }
    },
    {
      "cell_type": "code",
      "source": [],
      "metadata": {
        "id": "86huE7aiQZP5"
      },
      "execution_count": null,
      "outputs": []
    },
    {
      "cell_type": "code",
      "execution_count": 36,
      "metadata": {
        "colab": {
          "base_uri": "https://localhost:8080/"
        },
        "id": "pmZ4fExY8pWS",
        "outputId": "e5d1ec30-fb37-4130-a2b2-e9d53d928de8"
      },
      "outputs": [
        {
          "output_type": "stream",
          "name": "stdout",
          "text": [
            "Requirement already satisfied: pulp in /usr/local/lib/python3.10/dist-packages (2.7.0)\n"
          ]
        }
      ],
      "source": [
        " !pip install pulp"
      ]
    },
    {
      "cell_type": "markdown",
      "source": [],
      "metadata": {
        "id": "wdhcnvFb9u_K"
      }
    },
    {
      "cell_type": "code",
      "source": [
        "from pulp import LpProblem, LpMaximize, LpVariable"
      ],
      "metadata": {
        "id": "-eXRRejXQbQB"
      },
      "execution_count": 37,
      "outputs": []
    },
    {
      "cell_type": "code",
      "source": [
        "# Import all classes of PuLP module\n",
        "from pulp import *\n",
        "\n",
        "# Create the problem variable to contain the problem data\n",
        "model = LpProblem(\"CarCompanyProblem\", LpMaximize)"
      ],
      "metadata": {
        "id": "my3n2kil9mFC"
      },
      "execution_count": 38,
      "outputs": []
    },
    {
      "cell_type": "markdown",
      "source": [
        "Define Decision Variable"
      ],
      "metadata": {
        "id": "AybVL2eR_s4E"
      }
    },
    {
      "cell_type": "code",
      "source": [
        "# Create 8 variables for 8 models of car\n",
        "\n",
        "x1 = LpVariable(\"model1\", 0, None, LpInteger)\n",
        "x2 = LpVariable(\"model2\", 0, None, LpInteger)\n",
        "x3 = LpVariable(\"model3\", 0, None, LpInteger)\n",
        "x4 = LpVariable(\"model4\", 0, None, LpInteger)\n",
        "x5 = LpVariable(\"model5\", 0, None, LpInteger)\n",
        "x6 = LpVariable(\"model6\", 0, None, LpInteger)\n",
        "x7 = LpVariable(\"model7\", 0, None, LpInteger)\n",
        "x8 = LpVariable(\"model8\", 0, None, LpInteger)"
      ],
      "metadata": {
        "id": "E5sD2sMs_pnt"
      },
      "execution_count": 39,
      "outputs": []
    },
    {
      "cell_type": "markdown",
      "source": [
        "Define Objective Function"
      ],
      "metadata": {
        "id": "Wyen1y-SHVbI"
      }
    },
    {
      "cell_type": "code",
      "source": [
        "# Create maximize objective function\n",
        "model += 2000*x1 + 5000*x2 + 3000*x3 + 1000*x4 + 1000*x5 + 2000*x6 + 1000*x7 + 2000*x8"
      ],
      "metadata": {
        "id": "6WXMEKW4HWk8"
      },
      "execution_count": 40,
      "outputs": []
    },
    {
      "cell_type": "markdown",
      "source": [
        "Define the Constraints"
      ],
      "metadata": {
        "id": "CJey_BsLIweP"
      }
    },
    {
      "cell_type": "code",
      "source": [
        "# Create constraints\n",
        "#Shippping constraint\n",
        "model += x1 + x2 + x3 + x4 + x5 + x6 + x7 + x8 >= 10000 , \"Shipping\"\n",
        "\n",
        "#Demand constraints\n",
        "model += x1 >= 100 , \"demand1\"\n",
        "model += x2 >= 80 , \"demand2\"\n",
        "model += x3 >= 60 , \"demand3\"\n",
        "model += x4 >= 40 , \"demand4\"\n",
        "model += x5 >= 150 , \"demand5\"\n",
        "model += x6 >= 100 , \"demand6\"\n",
        "model += x7 >= 100 , \"demand7\"\n",
        "model += x8 >= 50 , \"demand8\"\n",
        "\n",
        "#Production Constraints\n",
        "model += x1 <= 200 , \"production1\"\n",
        "model += x2 <= 170 , \"production2\"\n",
        "model += x3 <= 100 , \"production3\"\n",
        "model += x4 <= 90 , \"production4\"\n",
        "model += x5 <= 200 , \"production5\"\n",
        "model += x6 <= 150 , \"production6\"\n",
        "model += x7 <= 200 , \"production7\"\n",
        "model += x8 <= 100 , \"production8\"\n",
        "\n",
        "\n"
      ],
      "metadata": {
        "id": "LmOGYsnMIwDp"
      },
      "execution_count": 41,
      "outputs": []
    },
    {
      "cell_type": "code",
      "source": [
        "model"
      ],
      "metadata": {
        "colab": {
          "base_uri": "https://localhost:8080/"
        },
        "id": "eDR_51KCMTTz",
        "outputId": "2cce2e31-2d63-4f61-a1e8-2dd8245d8d94"
      },
      "execution_count": 42,
      "outputs": [
        {
          "output_type": "execute_result",
          "data": {
            "text/plain": [
              "CarCompanyProblem:\n",
              "MAXIMIZE\n",
              "2000*model1 + 5000*model2 + 3000*model3 + 1000*model4 + 1000*model5 + 2000*model6 + 1000*model7 + 2000*model8 + 0\n",
              "SUBJECT TO\n",
              "Shipping: model1 + model2 + model3 + model4 + model5 + model6 + model7\n",
              " + model8 >= 10000\n",
              "\n",
              "demand1: model1 >= 100\n",
              "\n",
              "demand2: model2 >= 80\n",
              "\n",
              "demand3: model3 >= 60\n",
              "\n",
              "demand4: model4 >= 40\n",
              "\n",
              "demand5: model5 >= 150\n",
              "\n",
              "demand6: model6 >= 100\n",
              "\n",
              "demand7: model7 >= 100\n",
              "\n",
              "demand8: model8 >= 50\n",
              "\n",
              "production1: model1 <= 200\n",
              "\n",
              "production2: model2 <= 170\n",
              "\n",
              "production3: model3 <= 100\n",
              "\n",
              "production4: model4 <= 90\n",
              "\n",
              "production5: model5 <= 200\n",
              "\n",
              "production6: model6 <= 150\n",
              "\n",
              "production7: model7 <= 200\n",
              "\n",
              "production8: model8 <= 100\n",
              "\n",
              "VARIABLES\n",
              "0 <= model1 Integer\n",
              "0 <= model2 Integer\n",
              "0 <= model3 Integer\n",
              "0 <= model4 Integer\n",
              "0 <= model5 Integer\n",
              "0 <= model6 Integer\n",
              "0 <= model7 Integer\n",
              "0 <= model8 Integer"
            ]
          },
          "metadata": {},
          "execution_count": 42
        }
      ]
    },
    {
      "cell_type": "code",
      "source": [
        "# The problem is solved using PuLP's choice of Solver\n",
        "model.solve()\n",
        "\n",
        "# Each of the variables is printed with it's resolved optimum value\n",
        "for v in model.variables():\n",
        "    print(v.name, \"=\", v.varValue)\n",
        "print(\"Max Profit = \",value(model.objective ))"
      ],
      "metadata": {
        "colab": {
          "base_uri": "https://localhost:8080/"
        },
        "id": "REkwi8VmN7hS",
        "outputId": "b925b08b-32c6-42dd-94d8-9dcad5bbda08"
      },
      "execution_count": 43,
      "outputs": [
        {
          "output_type": "stream",
          "name": "stdout",
          "text": [
            "model1 = 200.0\n",
            "model2 = 170.0\n",
            "model3 = 100.0\n",
            "model4 = 90.0\n",
            "model5 = 200.0\n",
            "model6 = 150.0\n",
            "model7 = 200.0\n",
            "model8 = 100.0\n",
            "Max Profit =  2540000.0\n"
          ]
        }
      ]
    }
  ]
}