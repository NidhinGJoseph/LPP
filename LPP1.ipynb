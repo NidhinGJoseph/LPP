{
  "nbformat": 4,
  "nbformat_minor": 0,
  "metadata": {
    "colab": {
      "provenance": [],
      "authorship_tag": "ABX9TyNUMxi5lMRGXYm9SCmF6GcY",
      "include_colab_link": true
    },
    "kernelspec": {
      "name": "python3",
      "display_name": "Python 3"
    },
    "language_info": {
      "name": "python"
    }
  },
  "cells": [
    {
      "cell_type": "markdown",
      "metadata": {
        "id": "view-in-github",
        "colab_type": "text"
      },
      "source": [
        "<a href=\"https://colab.research.google.com/github/NidhinGJoseph/LPP/blob/main/LPP1.ipynb\" target=\"_parent\"><img src=\"https://colab.research.google.com/assets/colab-badge.svg\" alt=\"Open In Colab\"/></a>"
      ]
    },
    {
      "cell_type": "code",
      "source": [
        "pip install pulp"
      ],
      "metadata": {
        "colab": {
          "base_uri": "https://localhost:8080/"
        },
        "id": "qKgxArh6CoCR",
        "outputId": "5d627f4f-9a0b-4864-db49-3f44d33049be"
      },
      "execution_count": 13,
      "outputs": [
        {
          "output_type": "stream",
          "name": "stdout",
          "text": [
            "Collecting pulp\n",
            "  Downloading PuLP-2.7.0-py3-none-any.whl (14.3 MB)\n",
            "\u001b[2K     \u001b[90m━━━━━━━━━━━━━━━━━━━━━━━━━━━━━━━━━━━━━━━━\u001b[0m \u001b[32m14.3/14.3 MB\u001b[0m \u001b[31m75.6 MB/s\u001b[0m eta \u001b[36m0:00:00\u001b[0m\n",
            "\u001b[?25hInstalling collected packages: pulp\n",
            "Successfully installed pulp-2.7.0\n"
          ]
        }
      ]
    },
    {
      "cell_type": "code",
      "execution_count": 14,
      "metadata": {
        "colab": {
          "base_uri": "https://localhost:8080/"
        },
        "id": "W04lDGOOBUWn",
        "outputId": "dc66ffe5-052a-4899-b025-d6ea0f684aa6"
      },
      "outputs": [
        {
          "output_type": "stream",
          "name": "stdout",
          "text": [
            "\n",
            " Status: Optimal \n",
            "\n",
            "\t x1 = 4.0 \n",
            "\n",
            "\t x2 = 8.0 \n",
            "\n",
            "Maximum Z = 400.0\n",
            "4.0\n",
            "8.0\n",
            "400.0\n",
            "Optimal\n"
          ]
        }
      ],
      "source": [
        "\n",
        "from pulp import *\n",
        "\n",
        "prob = LpProblem(\"Q1\", LpMaximize)\n",
        "\n",
        "x1 = LpVariable(\"x1\", 0, None, LpContinuous)\n",
        "x2 = LpVariable(\"x2\", 0, None, LpContinuous)\n",
        "\n",
        "\n",
        "prob += 40*x1 + 30*x2\n",
        "\n",
        "prob += x1 + x2  <= 12\n",
        "prob += 2*x1 + x2 <= 16\n",
        "\n",
        "\n",
        "prob.writeLP(\"Q1.lp\")\n",
        "prob.solve()\n",
        "print(\"\\n\", \"Status:\",LpStatus[prob.status], \"\\n\")\n",
        "for v in prob.variables():\n",
        "    print(\"\\t\", v.name, \"=\", v.varValue, \"\\n\")\n",
        "\n",
        "print(\"Maximum Z =\", value(prob.objective))\n",
        "\n",
        "print(format(x1.varValue))\n",
        "print(format(x2.varValue))\n",
        "print(value(prob.objective))\n",
        "print(LpStatus[prob.status])"
      ]
    }
  ]
}